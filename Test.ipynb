{
 "cells": [
  {
   "cell_type": "code",
   "execution_count": null,
   "metadata": {},
   "outputs": [],
   "source": [
    "import pandas as pd\n",
    "import matplotlib.pyplot as plt\n",
    "import seaborn as sns\n",
    "\n",
    "# Sample dataset\n",
    "data = {\n",
    "    'Client_Name': ['Company A', 'Company B', 'Company C', 'Company D', 'Company E'],\n",
    "    'Client_Description': ['Manufacturing electronics', 'Global e-commerce platform', 'Financial consulting firm', 'Retail chain', 'Tech startup'],\n",
    "    'Revenue': [1000000, 5000000, 800000, 3000000, 200000],\n",
    "    'Expenses': [800000, 3000000, 600000, 2500000, 150000],\n",
    "    'Profit': [200000, 2000000, 200000, 500000, 50000],\n",
    "    'Total_Assets': [5000000, 10000000, 1500000, 8000000, 50000],\n",
    "    'Total_Liabilities': [2000000, 3000000, 500000, 2000000, 20000],\n",
    "    'Operating_Cash_Flow': [300000, 1500000, 300000, 1000000, 10000],\n",
    "    'Investments': [100000, 500000, 20000, 200000, 5000],\n",
    "    'Debt': [500000, 2000000, 300000, 1500000, 5000],\n",
    "    'Equity': [3000000, 7000000, 1000000, 6000000, 30000],\n",
    "    'Industry': ['Electronics', 'E-commerce', 'Financial Consulting', 'Retail', 'Technology']\n",
    "}\n",
    "\n",
    "df = pd.DataFrame(data)\n",
    "\n",
    "# Visualize the distribution of Profit\n",
    "plt.figure(figsize=(10, 6))\n",
    "sns.histplot(df['Profit'], bins=20, kde=True, color='skyblue')\n",
    "plt.title('Distribution of Profit')\n",
    "plt.xlabel('Profit')\n",
    "plt.ylabel('Frequency')\n",
    "plt.show()\n",
    "\n",
    "# Test Addition"
   ]
  },
  {
   "cell_type": "code",
   "execution_count": null,
   "metadata": {},
   "outputs": [],
   "source": [
    "#New Changes Made by Team Member\n",
    "myvar = [1,2,3,4,5]\n",
    "print(myvar)"
   ]
  }
 ],
 "metadata": {
  "kernelspec": {
   "display_name": "Python 3",
   "language": "python",
   "name": "python3"
  },
  "language_info": {
   "codemirror_mode": {
    "name": "ipython",
    "version": 3
   },
   "file_extension": ".py",
   "mimetype": "text/x-python",
   "name": "python",
   "nbconvert_exporter": "python",
   "pygments_lexer": "ipython3",
   "version": "3.12.0"
  }
 },
 "nbformat": 4,
 "nbformat_minor": 2
}
